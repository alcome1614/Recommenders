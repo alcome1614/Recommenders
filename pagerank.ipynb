{
 "cells": [
  {
   "cell_type": "code",
   "execution_count": 62,
   "metadata": {},
   "outputs": [
    {
     "data": {
      "text/html": [
       "<style>.container { width:100% !important; }</style>"
      ],
      "text/plain": [
       "<IPython.core.display.HTML object>"
      ]
     },
     "metadata": {},
     "output_type": "display_data"
    }
   ],
   "source": [
    "import numpy as np\n",
    "import pandas as pd\n",
    "import scipy\n",
    "from scipy.sparse import csr_matrix\n",
    "import h5py\n",
    "from tabulate import tabulate\n",
    "pdtabulate=lambda df:tabulate(df,headers='keys')\n",
    "from time import time\n",
    "from IPython.core.display import display, HTML\n",
    "display(HTML(\"<style>.container { width:100% !important; }</style>\"))"
   ]
  },
  {
   "cell_type": "code",
   "execution_count": 2,
   "metadata": {},
   "outputs": [
    {
     "data": {
      "text/html": [
       "<div>\n",
       "<style scoped>\n",
       "    .dataframe tbody tr th:only-of-type {\n",
       "        vertical-align: middle;\n",
       "    }\n",
       "\n",
       "    .dataframe tbody tr th {\n",
       "        vertical-align: top;\n",
       "    }\n",
       "\n",
       "    .dataframe thead th {\n",
       "        text-align: right;\n",
       "    }\n",
       "</style>\n",
       "<table border=\"1\" class=\"dataframe\">\n",
       "  <thead>\n",
       "    <tr style=\"text-align: right;\">\n",
       "      <th></th>\n",
       "      <th>user_id</th>\n",
       "      <th>item_id</th>\n",
       "      <th>rating</th>\n",
       "    </tr>\n",
       "  </thead>\n",
       "  <tbody>\n",
       "    <tr>\n",
       "      <th>0</th>\n",
       "      <td>13291</td>\n",
       "      <td>98</td>\n",
       "      <td>-0.670408</td>\n",
       "    </tr>\n",
       "    <tr>\n",
       "      <th>1</th>\n",
       "      <td>19559</td>\n",
       "      <td>8</td>\n",
       "      <td>1.436404</td>\n",
       "    </tr>\n",
       "    <tr>\n",
       "      <th>2</th>\n",
       "      <td>32928</td>\n",
       "      <td>50</td>\n",
       "      <td>1.711739</td>\n",
       "    </tr>\n",
       "    <tr>\n",
       "      <th>3</th>\n",
       "      <td>34459</td>\n",
       "      <td>29</td>\n",
       "      <td>-10.000000</td>\n",
       "    </tr>\n",
       "    <tr>\n",
       "      <th>4</th>\n",
       "      <td>68339</td>\n",
       "      <td>19</td>\n",
       "      <td>4.277970</td>\n",
       "    </tr>\n",
       "  </tbody>\n",
       "</table>\n",
       "</div>"
      ],
      "text/plain": [
       "   user_id  item_id     rating\n",
       "0    13291       98  -0.670408\n",
       "1    19559        8   1.436404\n",
       "2    32928       50   1.711739\n",
       "3    34459       29 -10.000000\n",
       "4    68339       19   4.277970"
      ]
     },
     "execution_count": 2,
     "metadata": {},
     "output_type": "execute_result"
    }
   ],
   "source": [
    "train = pd.read_csv('jesterdsub2020/training.csv')\n",
    "train.head()"
   ]
  },
  {
   "cell_type": "code",
   "execution_count": 3,
   "metadata": {},
   "outputs": [
    {
     "data": {
      "text/html": [
       "<div>\n",
       "<style scoped>\n",
       "    .dataframe tbody tr th:only-of-type {\n",
       "        vertical-align: middle;\n",
       "    }\n",
       "\n",
       "    .dataframe tbody tr th {\n",
       "        vertical-align: top;\n",
       "    }\n",
       "\n",
       "    .dataframe thead th {\n",
       "        text-align: right;\n",
       "    }\n",
       "</style>\n",
       "<table border=\"1\" class=\"dataframe\">\n",
       "  <thead>\n",
       "    <tr style=\"text-align: right;\">\n",
       "      <th></th>\n",
       "      <th>id</th>\n",
       "      <th>user_id</th>\n",
       "      <th>item_id</th>\n",
       "    </tr>\n",
       "  </thead>\n",
       "  <tbody>\n",
       "    <tr>\n",
       "      <th>0</th>\n",
       "      <td>0</td>\n",
       "      <td>52841</td>\n",
       "      <td>68</td>\n",
       "    </tr>\n",
       "    <tr>\n",
       "      <th>1</th>\n",
       "      <td>1</td>\n",
       "      <td>51916</td>\n",
       "      <td>84</td>\n",
       "    </tr>\n",
       "    <tr>\n",
       "      <th>2</th>\n",
       "      <td>2</td>\n",
       "      <td>46765</td>\n",
       "      <td>65</td>\n",
       "    </tr>\n",
       "    <tr>\n",
       "      <th>3</th>\n",
       "      <td>3</td>\n",
       "      <td>9882</td>\n",
       "      <td>35</td>\n",
       "    </tr>\n",
       "    <tr>\n",
       "      <th>4</th>\n",
       "      <td>4</td>\n",
       "      <td>22323</td>\n",
       "      <td>24</td>\n",
       "    </tr>\n",
       "  </tbody>\n",
       "</table>\n",
       "</div>"
      ],
      "text/plain": [
       "   id  user_id  item_id\n",
       "0   0    52841       68\n",
       "1   1    51916       84\n",
       "2   2    46765       65\n",
       "3   3     9882       35\n",
       "4   4    22323       24"
      ]
     },
     "execution_count": 3,
     "metadata": {},
     "output_type": "execute_result"
    }
   ],
   "source": [
    "test = pd.read_csv('jesterdsub2020/target_user_items.csv').rename(columns={'Unnamed: 0':'id'})\n",
    "test.head()"
   ]
  },
  {
   "cell_type": "code",
   "execution_count": 4,
   "metadata": {},
   "outputs": [
    {
     "data": {
      "text/html": [
       "<div>\n",
       "<style scoped>\n",
       "    .dataframe tbody tr th:only-of-type {\n",
       "        vertical-align: middle;\n",
       "    }\n",
       "\n",
       "    .dataframe tbody tr th {\n",
       "        vertical-align: top;\n",
       "    }\n",
       "\n",
       "    .dataframe thead th {\n",
       "        text-align: right;\n",
       "    }\n",
       "</style>\n",
       "<table border=\"1\" class=\"dataframe\">\n",
       "  <thead>\n",
       "    <tr style=\"text-align: right;\">\n",
       "      <th></th>\n",
       "      <th>id</th>\n",
       "      <th>rating</th>\n",
       "    </tr>\n",
       "  </thead>\n",
       "  <tbody>\n",
       "    <tr>\n",
       "      <th>0</th>\n",
       "      <td>0</td>\n",
       "      <td>0</td>\n",
       "    </tr>\n",
       "    <tr>\n",
       "      <th>1</th>\n",
       "      <td>1</td>\n",
       "      <td>0</td>\n",
       "    </tr>\n",
       "    <tr>\n",
       "      <th>2</th>\n",
       "      <td>2</td>\n",
       "      <td>0</td>\n",
       "    </tr>\n",
       "    <tr>\n",
       "      <th>3</th>\n",
       "      <td>3</td>\n",
       "      <td>0</td>\n",
       "    </tr>\n",
       "    <tr>\n",
       "      <th>4</th>\n",
       "      <td>4</td>\n",
       "      <td>0</td>\n",
       "    </tr>\n",
       "    <tr>\n",
       "      <th>...</th>\n",
       "      <td>...</td>\n",
       "      <td>...</td>\n",
       "    </tr>\n",
       "    <tr>\n",
       "      <th>49995</th>\n",
       "      <td>49995</td>\n",
       "      <td>0</td>\n",
       "    </tr>\n",
       "    <tr>\n",
       "      <th>49996</th>\n",
       "      <td>49996</td>\n",
       "      <td>0</td>\n",
       "    </tr>\n",
       "    <tr>\n",
       "      <th>49997</th>\n",
       "      <td>49997</td>\n",
       "      <td>0</td>\n",
       "    </tr>\n",
       "    <tr>\n",
       "      <th>49998</th>\n",
       "      <td>49998</td>\n",
       "      <td>0</td>\n",
       "    </tr>\n",
       "    <tr>\n",
       "      <th>49999</th>\n",
       "      <td>49999</td>\n",
       "      <td>0</td>\n",
       "    </tr>\n",
       "  </tbody>\n",
       "</table>\n",
       "<p>50000 rows × 2 columns</p>\n",
       "</div>"
      ],
      "text/plain": [
       "          id  rating\n",
       "0          0       0\n",
       "1          1       0\n",
       "2          2       0\n",
       "3          3       0\n",
       "4          4       0\n",
       "...      ...     ...\n",
       "49995  49995       0\n",
       "49996  49996       0\n",
       "49997  49997       0\n",
       "49998  49998       0\n",
       "49999  49999       0\n",
       "\n",
       "[50000 rows x 2 columns]"
      ]
     },
     "execution_count": 4,
     "metadata": {},
     "output_type": "execute_result"
    }
   ],
   "source": [
    "pd.read_csv('jesterdsub2020/submision_sample.csv')"
   ]
  },
  {
   "cell_type": "code",
   "execution_count": 159,
   "metadata": {},
   "outputs": [],
   "source": [
    "import functools\n",
    "import operator\n",
    "import itertools\n",
    "from scipy.sparse.linalg import eigs\n",
    "from sklearn.preprocessing import normalize\n",
    "from numpy.linalg import norm\n",
    "\n",
    "def flatten_list(a):\n",
    "    return functools.reduce(operator.iconcat, a, [])\n",
    "\n",
    "\n",
    "\n",
    "class GraphRecommender():\n",
    "    \n",
    "    def __init__(self):\n",
    "        self.empty = None\n",
    "        \n",
    "    def ratings_to_csr(self, item_id, subtract_mean=False):\n",
    "        df_red = self.df[self.df.item_id==item_id]\n",
    "        to_subtract = 0\n",
    "        if subtract_mean:\n",
    "            to_subtract = df_red.user_id.apply(lambda x: self.user_mean[x])\n",
    "        data = df_red.rating - to_subtract\n",
    "        rows = [0]*len(df_red)\n",
    "        cols = df_red.user_idx           \n",
    "        return csr_matrix((data, (rows, cols)), shape=(1, self.n))\n",
    "\n",
    "        \n",
    "    def fit(self, df, fpath=False, bias=10, subtract_mean=False):\n",
    "        self.df = df.copy()\n",
    "        self.users = np.unique(self.df.user_id)\n",
    "        self.items = np.unique(self.df.item_id)\n",
    "        self.n = len(self.users)\n",
    "        self.m = len(self.items)\n",
    "        self.N = self.n + self.m\n",
    "        self.user_id_to_idx = dict(zip(self.users, range(self.n)) )\n",
    "        self.user_idx_to_id = dict(zip(  range(self.n), self.users) ) \n",
    "        self.item_id_to_idx = dict(zip(self.items, range(self.n, self.N)) )\n",
    "        self.item_idx_to_id = dict(zip(  range(self.n, self.N), self.items) )         \n",
    "        self.df.rating = self.df.rating + bias\n",
    "        self.df['user_idx'] = self.df.user_id.apply(lambda x: self.user_id_to_idx[x] )\n",
    "        self.df['item_idx'] = self.df.item_id.apply(lambda x: self.item_id_to_idx[x])\n",
    "        self.bias  = bias\n",
    "        \n",
    "        #constructing adjacency matrix\n",
    "        data = list(self.df.rating) + list(self.df.rating)\n",
    "        rows = list(self.df.user_idx) + list(self.df.item_idx)\n",
    "        cols = list(self.df.item_idx) + list(self.df.user_idx)\n",
    "        self.shape = (self.N, self.N)\n",
    "        self.A = normalize(csr_matrix((data, (rows, cols)), shape=self.shape), norm='l1', axis=0)\n",
    "#         self.A_norm = normalize(self.A, norm='l1', axis=0)\n",
    "        self.listN = list(range(self.N))\n",
    "        \n",
    "        print('Calculating user ratings mean...')\n",
    "        self.user_mean = dict([(user_id, np.mean( self.df[self.df.user_id == user_id].rating) ) for user_id in self.users])\n",
    "\n",
    "        self.item_ratings = {'normal':{}, 'relative':{}, 'mean':{}}\n",
    "        print('Calculating item ratings normal....')\n",
    "        self.item_ratings['normal'] = dict( [(item_id, self.ratings_to_csr(item_id, subtract_mean=False) ) for item_id in self.items] ) \n",
    "        if subtract_mean:\n",
    "            print('Calculating item ratings relative...')\n",
    "            self.item_ratings['relative'] = dict( [(item_id, self.ratings_to_csr(item_id, subtract_mean=True) ) for item_id in self.items] )\n",
    "        print('Calculating item ratings mean')\n",
    "        self.item_ratings['mean'] = dict( [ (item_id, np.mean( self.df[self.df.item_id==item_id].rating ) ) for item_id in self.items ] )\n",
    "        \n",
    "\n",
    "        if fpath!=False :\n",
    "            hf = h5py.File(fpath, 'w')\n",
    "            hf.close()\n",
    "            for i, user_id in enumerate(self.users):\n",
    "                if i%100==0:\n",
    "                    print('Calculating...{:.4f}%'.format(i/self.n*100), end='\\r')\n",
    "                G = self.google_matrix(S=self.itemrank(user_id))\n",
    "                eig_val, eig_vec = eigs(G, k=1, which='LR')\n",
    "                eig_vec = (eig_vec.real).reshape(-1)[: self.n]\n",
    "                with h5py.File(fpath,'a') as h5f:\n",
    "                    h5f.create_dataset(str(user_id), data=eig_vec) \n",
    "        return \n",
    "    \n",
    "    \n",
    "    def google_matrix(self, S, alpha=0.15):\n",
    "        return alpha*S/self.N + (1-alpha) * self.A\n",
    "    \n",
    "    def itemrank(self, user_id, top_k=10):\n",
    "        df_red = self.df[self.df.user_id == user_id].sort_values('rating', ascending=False)[: top_k]\n",
    "#         print(pdtabulate(df_red))\n",
    "        try:\n",
    "            listA, listB = zip(*itertools.combinations(df_red.item_idx, 2))\n",
    "        except:\n",
    "            listA, listB = ([],[])\n",
    "        listA = list(listA)\n",
    "        listB = list(listB)\n",
    "\n",
    "        n = len(df_red)\n",
    "        data = [1]*n*self.N*2 + [-1]*(n**2)\n",
    "        rows = flatten_list([[x]*self.N +  self.listN for x in df_red.item_idx])+ list(df_red.item_idx) + listA + listB\n",
    "        cols= flatten_list([  self.listN + [x]*self.N  for x in df_red.item_idx]) + list(df_red.item_idx) + listB + listA\n",
    "        \n",
    "        return csr_matrix((data, (rows,cols)), shape=self.shape)\n",
    "    \n",
    "    \n",
    "    def predict(self, df2, fpath, tocsv=False, top_k=100, subtract_mean=False):\n",
    "        users2 = np.unique(df2.user_id)\n",
    "        users_int = np.intersect1d(self.users, users2)\n",
    "        users_diff = np.setdiff1d(users2, self.users)\n",
    "        ratings = np.zeros(len(df2))\n",
    "        hf = h5py.File(fpath, 'r')\n",
    "        count = 0\n",
    "        for user_id in users_int:\n",
    "            print('Calculating predictions...{:.4f}%'.format( count/len(df2)*100 ),end='\\r')\n",
    "            user_dset = str(user_id)\n",
    "            sim_vec = np.array(hf.get(user_dset)).reshape(-1)\n",
    "            indices = np.argsort(sim_vec)[::-1][: top_k]\n",
    "            sim_vec = sim_vec[indices]\n",
    "            vec = np.zeros(self.n)\n",
    "            vec[indices] = sim_vec / norm(sim_vec, ord=1)\n",
    "            df_red = df2[df2.user_id==user_id]\n",
    "            if subtract_mean:\n",
    "                ratings[df_red.id] = df_red.item_id.apply(lambda x: self.user_mean[user_id] + self.item_ratings['relative'][x]*vec) \n",
    "            else:\n",
    "                ratings[df_red.id] = df_red.item_id.apply(lambda x: self.item_ratings['normal'][x]*vec) \n",
    "            count += len(df_red) \n",
    "        df_red = df2[df2.user_id.isin(users_diff)]\n",
    "        print('\\nitem ratings mean:', len(df_red), len(df_red)/len(df2)*100)\n",
    "        ratings[df_red.id] = df_red.item_id.apply(lambda x: self.item_ratings['mean'][x]) \n",
    "        ratings = ratings - self.bias\n",
    "        submission = pd.DataFrame({'id': df2.id, 'rating':ratings})\n",
    "        if tocsv != False:\n",
    "            submission.to_csv(tocsv, index=False)\n",
    "        return submission\n",
    "    \n",
    "    \n",
    "        \n",
    "\n",
    "\n",
    "\n",
    "    \n",
    "\n",
    "    \n",
    "    \n",
    "\n",
    "\n",
    "\n",
    "    "
   ]
  },
  {
   "cell_type": "code",
   "execution_count": 60,
   "metadata": {},
   "outputs": [
    {
     "data": {
      "text/plain": [
       "True"
      ]
     },
     "execution_count": 60,
     "metadata": {},
     "output_type": "execute_result"
    }
   ],
   "source": [
    "fpath = 'graph_user_10.h5'\n",
    "hf = h5py.File(fpath, 'r')\n",
    "\n",
    "# n1 = hf.get('10027')\n",
    "# np.array(n1).shape\n",
    "\n",
    "'67' in list(hf.keys())"
   ]
  },
  {
   "cell_type": "code",
   "execution_count": 145,
   "metadata": {},
   "outputs": [
    {
     "name": "stdout",
     "output_type": "stream",
     "text": [
      "Calculating user ratings mean...\n",
      "Calculating item ratings normal....\n",
      "Calculating item ratings relative...\n",
      "Calculating item ratings mean\n",
      "\n",
      "Training time: 121.70099711418152\n"
     ]
    }
   ],
   "source": [
    "fpath='graph_user_10.h5'    \n",
    "        \n",
    "gr = GraphRecommender()\n",
    "t = time()\n",
    "gr.fit(train, fpath=False, bias=10, subtract_mean=True)\n",
    "print('\\nTraining time:',time()-t)"
   ]
  },
  {
   "cell_type": "code",
   "execution_count": 146,
   "metadata": {},
   "outputs": [
    {
     "name": "stdout",
     "output_type": "stream",
     "text": [
      "Calculating predictions...99.9480%\n",
      "item ratings mean: 25 0.05\n",
      "\n",
      "Predicting time: 290.2554211616516\n"
     ]
    }
   ],
   "source": [
    "t = time()\n",
    "gr.predict(test, fpath, tocsv='submissions/graph_user_10_normal.csv', subtract_mean=True)\n",
    "print('\\nPredicting time:',time()-t)"
   ]
  },
  {
   "cell_type": "code",
   "execution_count": 147,
   "metadata": {},
   "outputs": [
    {
     "data": {
      "text/html": [
       "<div>\n",
       "<style scoped>\n",
       "    .dataframe tbody tr th:only-of-type {\n",
       "        vertical-align: middle;\n",
       "    }\n",
       "\n",
       "    .dataframe tbody tr th {\n",
       "        vertical-align: top;\n",
       "    }\n",
       "\n",
       "    .dataframe thead th {\n",
       "        text-align: right;\n",
       "    }\n",
       "</style>\n",
       "<table border=\"1\" class=\"dataframe\">\n",
       "  <thead>\n",
       "    <tr style=\"text-align: right;\">\n",
       "      <th></th>\n",
       "      <th>id</th>\n",
       "      <th>rating</th>\n",
       "    </tr>\n",
       "  </thead>\n",
       "  <tbody>\n",
       "    <tr>\n",
       "      <th>0</th>\n",
       "      <td>0</td>\n",
       "      <td>3.478413</td>\n",
       "    </tr>\n",
       "    <tr>\n",
       "      <th>1</th>\n",
       "      <td>1</td>\n",
       "      <td>-5.452203</td>\n",
       "    </tr>\n",
       "    <tr>\n",
       "      <th>2</th>\n",
       "      <td>2</td>\n",
       "      <td>3.918626</td>\n",
       "    </tr>\n",
       "    <tr>\n",
       "      <th>3</th>\n",
       "      <td>3</td>\n",
       "      <td>0.063440</td>\n",
       "    </tr>\n",
       "    <tr>\n",
       "      <th>4</th>\n",
       "      <td>4</td>\n",
       "      <td>2.645115</td>\n",
       "    </tr>\n",
       "  </tbody>\n",
       "</table>\n",
       "</div>"
      ],
      "text/plain": [
       "   id    rating\n",
       "0   0  3.478413\n",
       "1   1 -5.452203\n",
       "2   2  3.918626\n",
       "3   3  0.063440\n",
       "4   4  2.645115"
      ]
     },
     "execution_count": 147,
     "metadata": {},
     "output_type": "execute_result"
    }
   ],
   "source": [
    "submission = pd.read_csv('submissions/graph_user_10_normal.csv')\n",
    "submission.head()"
   ]
  },
  {
   "cell_type": "code",
   "execution_count": 148,
   "metadata": {},
   "outputs": [
    {
     "data": {
      "text/plain": [
       "(array([   47.,   350.,  1275.,  3464.,  8667., 14630., 12949.,  6368.,\n",
       "         2020.,   230.]),\n",
       " array([-11.58482006,  -9.43239882,  -7.27997758,  -5.12755634,\n",
       "         -2.9751351 ,  -0.82271386,   1.32970738,   3.48212862,\n",
       "          5.63454986,   7.78697109,   9.93939233]),\n",
       " <a list of 10 Patch objects>)"
      ]
     },
     "execution_count": 148,
     "metadata": {},
     "output_type": "execute_result"
    },
    {
     "data": {
      "image/png": "[encoded data removed]",
      "text/plain": [
       "<Figure size 432x288 with 1 Axes>"
      ]
     },
     "metadata": {
      "needs_background": "light"
     },
     "output_type": "display_data"
    }
   ],
   "source": [
    "import matplotlib.pyplot as plt\n",
    "\n",
    "plt.hist(submission.rating.values)"
   ]
  }
 ],
 "metadata": {
  "kernelspec": {
   "display_name": "Python 3",
   "language": "python",
   "name": "python3"
  },
  "language_info": {
   "codemirror_mode": {
    "name": "ipython",
    "version": 3
   },
   "file_extension": ".py",
   "mimetype": "text/x-python",
   "name": "python",
   "nbconvert_exporter": "python",
   "pygments_lexer": "ipython3",
   "version": "3.7.6"
  }
 },
 "nbformat": 4,
 "nbformat_minor": 2
}

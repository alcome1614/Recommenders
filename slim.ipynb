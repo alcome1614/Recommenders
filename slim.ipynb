{
 "cells": [
  {
   "cell_type": "code",
   "execution_count": 1,
   "metadata": {},
   "outputs": [
    {
     "data": {
      "text/html": [
       "<style>.container { width:100% !important; }</style>"
      ],
      "text/plain": [
       "<IPython.core.display.HTML object>"
      ]
     },
     "metadata": {},
     "output_type": "display_data"
    }
   ],
   "source": [
    "import numpy as np\n",
    "import pandas as pd\n",
    "import scipy\n",
    "from scipy.sparse import csr_matrix\n",
    "import h5py\n",
    "from tabulate import tabulate\n",
    "pdtabulate=lambda df:tabulate(df,headers='keys')\n",
    "from time import time\n",
    "from IPython.core.display import display, HTML\n",
    "display(HTML(\"<style>.container { width:100% !important; }</style>\"))\n",
    "\n",
    "from scipy.sparse import csr_matrix, csc_matrix\n",
    "from sklearn.linear_model import SGDRegressor, ElasticNet\n",
    "import functools\n",
    "import operator\n",
    "import itertools\n",
    "from scipy.sparse.linalg import eigs\n",
    "from sklearn.preprocessing import normalize\n",
    "from numpy.linalg import norm\n",
    "\n"
   ]
  },
  {
   "cell_type": "code",
   "execution_count": 2,
   "metadata": {},
   "outputs": [],
   "source": [
    "train = pd.read_csv('jesterdsub2020/training.csv')\n",
    "test = pd.read_csv('jesterdsub2020/target_user_items.csv').rename(columns={'Unnamed: 0':'id'})"
   ]
  },
  {
   "cell_type": "code",
   "execution_count": 6,
   "metadata": {},
   "outputs": [],
   "source": [
    "\n",
    "class MatrixSparseColumn():\n",
    "    def __init__(self, X_csr):\n",
    "        self.X_csr = X_csr\n",
    "        X_csc = X_csr.copy()\n",
    "        X_csc.data = np.arange(X_csr.nnz)\n",
    "        self.X_csc = X_csc.tocsc()\n",
    "        \n",
    "    def get_col(self, col_idx):\n",
    "        col = self.X_csc[:, col_idx].copy()\n",
    "        col.data = self.X_csr.data[col.data]\n",
    "        return col\n",
    "\n",
    "#         dataptr = self.col_view[:,j].data\n",
    "#         self.X.data[dataptr] = vals\n",
    "    def update_col(self, vals, col_idx):\n",
    "        idx = self.X_csc[:, col_idx].data\n",
    "        self.X_csr.data[idx] = vals\n",
    "        return \n",
    "\n",
    "\n",
    "\n",
    "class slimRecommender():\n",
    "    \n",
    "    def __init__(self):\n",
    "        self.empty = None\n",
    "    \n",
    "    def compute_similarity_vec(self, msc, col_idx, l1_reg=0.001, l2_reg=0.0001, fit_intercept=False):\n",
    "#         alpha = l1_reg+l2_reg\n",
    "#         l1_ratio = l1_reg / l2_reg\n",
    "        model = SGDRegressor(penalty='l2',fit_intercept=fit_intercept)        \n",
    "        a = msc.get_col(col_idx)\n",
    "        msc.update_col(np.zeros(a.nnz), col_idx)\n",
    "        model.fit( msc.X_csr, a.toarray().ravel())\n",
    "        msc.update_col(a.data, col_idx)\n",
    "        w = model.coef_\n",
    "#         w[w<0] = 0\n",
    "        return w \n",
    "        \n",
    "    def ratings_to_csr(self, id2, subtract_mean=False):\n",
    "        df_red = self.df[self.df[self.el2_id]== id2]   \n",
    "        to_subtract = 0\n",
    "        if subtract_mean:\n",
    "            to_subtract = df_red[self.el1_id].apply(lambda x: self.el1_mean[x])       \n",
    "        data = df_red.rating - to_subtract\n",
    "        rows = [0]*len(df_red)\n",
    "        cols = df_red[self.el1_idx]\n",
    "        return csr_matrix((data, (rows, cols)), shape=(1, self.el1_n))\n",
    "    \n",
    "    def fit(self, df, mode='user', fpath=False, bias=0, subtract_mean=False, l1_reg=0.001, l2_reg= 0.0001):\n",
    "        \n",
    "        self.mode = mode\n",
    "        if self.mode == 'user':\n",
    "            self.el1 = 'user'\n",
    "            self.el2  = 'item'\n",
    "            self.el1_id = self.el1 + '_id'\n",
    "            self.el2_id = self.el2 + '_id'\n",
    "            self.el1_idx = self.el1 + '_idx'\n",
    "            self.el2_idx = self.el2 + '_idx'\n",
    "        if self.mode== 'item':\n",
    "            self.el2 = 'user'\n",
    "            self.el1  = 'item'\n",
    "            self.el1_id = self.el1 + '_id'\n",
    "            self.el2_id = self.el2 + '_id'\n",
    "            self.el1_idx = self.el1 + '_idx'\n",
    "            self.el2_idx = self.el2 + '_idx'\n",
    "            \n",
    "            \n",
    "        self.df = df.copy()\n",
    "        self.el1_all = np.unique(self.df[self.el1_id])\n",
    "        self.el2_all = np.unique(self.df[self.el2_id])\n",
    "        self.el1_n = len(self.el1_all)\n",
    "        self.el2_n = len(self.el2_all)\n",
    "        self.id_to_idx = dict({self.el1: dict(zip(self.el1_all, range(self.el1_n)) ), self.el2: dict(zip(self.el2_all, range(self.el2_n)) ) }) \n",
    "        self.df.rating = self.df.rating + bias\n",
    "        self.df[self.el1_idx] = self.df[self.el1_id].apply(lambda x: self.id_to_idx[self.el1][x] )\n",
    "        self.df[self.el2_idx] = self.df[self.el2_id].apply(lambda x: self.id_to_idx[self.el2][x])\n",
    "        self.bias  = bias\n",
    "        \n",
    "        #constructing adjacency matrix\n",
    "        data = list(self.df.rating) \n",
    "        cols = list(self.df[self.el1_idx]) \n",
    "        rows = list(self.df[self.el2_idx])\n",
    "        self.shape = (self.el2_n, self.el1_n)\n",
    "        self.A = csr_matrix((data, (rows, cols)), shape=self.shape)            \n",
    "        \n",
    "        self.msc = MatrixSparseColumn(self.A)\n",
    "        \n",
    "        print('Calculating '+ self.el1 +' ratings mean...', end=' ')\n",
    "        t = time()\n",
    "        self.el1_mean = dict([(id1, np.mean( self.df[self.df[self.el1_id] == id1].rating) ) for id1 in self.el1_all])\n",
    "        print('done in t={:.3f}s'.format(time()-t))\n",
    "\n",
    "        self.el2_ratings = {'normal':{}, 'relative':{}, 'mean':{}}\n",
    "        print('Calculating '+ self.el2 +' ratings normal....', end=' ')\n",
    "        t=time()\n",
    "        self.el2_ratings['normal'] = dict( [(id2, self.ratings_to_csr(id2, subtract_mean=False) ) for id2 in self.el2_all] )\n",
    "        print('done in t={:.3f}s'.format(time()-t))\n",
    "            \n",
    "        if subtract_mean:\n",
    "            print('Calculating '+ self.el2 +' ratings relative...', end=' ')\n",
    "            t = time()\n",
    "            self.el2_ratings['relative'] = dict( [(id2, self.ratings_to_csr(id2, subtract_mean=True) ) for id2 in self.el2_all] )\n",
    "            print('done in t={:.3f}s'.format(time()-t))\n",
    "            \n",
    "        print('Calculating '+ self.el2 +' ratings mean', end=' ')\n",
    "        t = time()\n",
    "        self.el2_ratings['mean'] = dict( [ (id2, np.mean( self.df[self.df[self.el2_id]==id2].rating ) ) for id2 in self.el2_all] )\n",
    "        print('done in t={:.3f}s'.format(time()-t))\n",
    "\n",
    "        \n",
    "\n",
    "        if fpath!=False :\n",
    "            hf = h5py.File(fpath, 'w')\n",
    "            hf.close()\n",
    "            for i, id1 in enumerate(self.el1_all):\n",
    "                idx1 = self.id_to_idx[self.el1][id1]\n",
    "                id1_str = str(id1)\n",
    "                \n",
    "                if i%10==0:\n",
    "                    print('Calculating...{:.4f}%'.format(i/self.el1_n*100), end='\\r')\n",
    "                w = self.compute_similarity_vec(self.msc, idx1, l1_reg, l2_reg)\n",
    "                with h5py.File(fpath,'a') as h5f:\n",
    "                    h5f.create_dataset(id1_str, data=w) \n",
    "    \n",
    "        return\n",
    "    \n",
    "    def predict(self, df2, fpath, tocsv=False, top_k=100, subtract_mean=False):\n",
    "        el1_test = np.unique(df2[self.el1_id])\n",
    "        el1_int = np.intersect1d(self.el1_all, el1_test)\n",
    "        el1_diff = np.setdiff1d(el1_test, self.el1_all)\n",
    "        ratings = np.zeros(len(df2))\n",
    "        hf = h5py.File(fpath, 'r')\n",
    "        count = 0\n",
    "        for id1 in el1_int:\n",
    "            print('Calculating predictions...{:.4f}%'.format( count/len(df2)*100 ),end='\\r')\n",
    "            el1_dset = str(id1)\n",
    "            sim_vec = np.array(hf.get(el1_dset)).reshape(-1)\n",
    "            indices = np.argsort(sim_vec)[::-1][: top_k]\n",
    "            sim_vec = sim_vec[indices]\n",
    "            vec = np.zeros(self.el1_n)\n",
    "            vec[indices] = sim_vec / norm(sim_vec, ord=1)\n",
    "            df_red = df2[df2[self.el1_id]==id1]\n",
    "            if subtract_mean:\n",
    "                ratings[df_red.id] = df_red[self.el2_id].apply(lambda x: self.el1_mean[id1] + self.el2_ratings['relative'][x]*vec) \n",
    "            else:\n",
    "                ratings[df_red.id] = df_red[self.el2_id].apply(lambda x: self.el2_ratings['normal'][x]*vec) \n",
    "            count += len(df_red) \n",
    "        df_red = df2[df2[self.el1_id].isin(el1_diff)]\n",
    "        print('\\nitem ratings mean:', len(df_red), len(df_red)/len(df2)*100)\n",
    "        ratings[df_red.id] = df_red[self.el2_id].apply(lambda x: self.el2_ratings['mean'][x]) \n",
    "        ratings = ratings - self.bias\n",
    "        submission = pd.DataFrame({'id': df2.id, 'rating':ratings})\n",
    "        if tocsv != False:\n",
    "            submission.to_csv(tocsv, index=False)\n",
    "        return submission\n",
    "    \n",
    "    \n",
    "        \n",
    "\n",
    "    \n",
    "    \n",
    "        \n"
   ]
  },
  {
   "cell_type": "code",
   "execution_count": 68,
   "metadata": {
    "scrolled": false
   },
   "outputs": [
    {
     "name": "stdout",
     "output_type": "stream",
     "text": [
      "Calculating item ratings mean... done in t=0.002s\n",
      "Calculating user ratings normal.... done in t=0.004s\n",
      "Calculating user ratings relative... done in t=0.004s\n",
      "Calculating user ratings mean done in t=0.002s\n",
      "Calculating...0.0000%\r",
      "Calculating predictions...0.0000%\r",
      "Calculating predictions...33.3333%\r",
      "Calculating predictions...66.6667%\r\n",
      "item ratings mean: 0 0.0\n"
     ]
    },
    {
     "data": {
      "text/html": [
       "<div>\n",
       "<style scoped>\n",
       "    .dataframe tbody tr th:only-of-type {\n",
       "        vertical-align: middle;\n",
       "    }\n",
       "\n",
       "    .dataframe tbody tr th {\n",
       "        vertical-align: top;\n",
       "    }\n",
       "\n",
       "    .dataframe thead th {\n",
       "        text-align: right;\n",
       "    }\n",
       "</style>\n",
       "<table border=\"1\" class=\"dataframe\">\n",
       "  <thead>\n",
       "    <tr style=\"text-align: right;\">\n",
       "      <th></th>\n",
       "      <th>id</th>\n",
       "      <th>rating</th>\n",
       "    </tr>\n",
       "  </thead>\n",
       "  <tbody>\n",
       "    <tr>\n",
       "      <th>0</th>\n",
       "      <td>0</td>\n",
       "      <td>0.839304</td>\n",
       "    </tr>\n",
       "    <tr>\n",
       "      <th>1</th>\n",
       "      <td>1</td>\n",
       "      <td>-0.158313</td>\n",
       "    </tr>\n",
       "    <tr>\n",
       "      <th>2</th>\n",
       "      <td>2</td>\n",
       "      <td>0.500000</td>\n",
       "    </tr>\n",
       "  </tbody>\n",
       "</table>\n",
       "</div>"
      ],
      "text/plain": [
       "   id    rating\n",
       "0   0  0.839304\n",
       "1   1 -0.158313\n",
       "2   2  0.500000"
      ]
     },
     "execution_count": 68,
     "metadata": {},
     "output_type": "execute_result"
    }
   ],
   "source": [
    "data = [[1,12,1],[1,13,3],[2,11,1],[2,12,2],[3,11,2],[3,13,2],[4,11,2],[4,12,1],[4,13,3]]\n",
    "custom = pd.DataFrame(data, columns=['user_id','item_id','rating'])\n",
    "custom.rating = custom.rating - 1.5\n",
    "\n",
    "data = [[0,1,11],[1,2,13],[2,3,12]]\n",
    "custom2 = pd.DataFrame(data, columns=['id','user_id','item_id'])\n",
    "custom2\n",
    "\n",
    "fpath = 'custom_slim.h5'\n",
    "mode = 'item'\n",
    "gr =slimRecommender()\n",
    "gr.fit(custom, fpath=fpath, mode= mode, bias=1.5, subtract_mean=True)\n",
    "gr.predict(custom2, fpath, tocsv=False, top_k=100, subtract_mean=False)"
   ]
  },
  {
   "cell_type": "code",
   "execution_count": 7,
   "metadata": {},
   "outputs": [
    {
     "name": "stdout",
     "output_type": "stream",
     "text": [
      "Calculating user ratings mean... done in t=164.194s\n",
      "Calculating item ratings normal.... done in t=0.578s\n",
      "Calculating item ratings relative... done in t=1.529s\n",
      "Calculating item ratings mean done in t=0.372s\n",
      "Training time:99.9877%\n",
      "Calculating predictions...99.9480%\n",
      "item ratings mean: 25 0.05\n",
      "Prediction time:\n"
     ]
    }
   ],
   "source": [
    "fpath = 'slim_user_no0.h5'\n",
    "mode = 'user'\n",
    "gr =slimRecommender()\n",
    "t = time()\n",
    "gr.fit(train, fpath=fpath, mode= mode, bias=0, subtract_mean=True)\n",
    "print('Training time:'.format(time()-t))\n",
    "\n",
    "t = time()\n",
    "submission1 = gr.predict(test, fpath=fpath, tocsv='submissions/slim_user.csv', top_k=100, subtract_mean=True)\n",
    "print('Prediction time:'.format(time()-t))"
   ]
  },
  {
   "cell_type": "code",
   "execution_count": 8,
   "metadata": {},
   "outputs": [
    {
     "name": "stdout",
     "output_type": "stream",
     "text": [
      "Calculating item ratings mean... done in t=0.327s\n",
      "Calculating user ratings normal.... done in t=160.544s\n",
      "Calculating user ratings relative... done in t=173.689s\n",
      "Calculating user ratings mean done in t=122.009s\n",
      "Training time:90.0000%\n",
      "Calculating predictions...3.1320%\r"
     ]
    },
    {
     "ename": "KeyError",
     "evalue": "63480",
     "output_type": "error",
     "traceback": [
      "\u001b[1;31m---------------------------------------------------------------------------\u001b[0m",
      "\u001b[1;31mKeyError\u001b[0m                                  Traceback (most recent call last)",
      "\u001b[1;32m<ipython-input-8-4a9918dbf24b>\u001b[0m in \u001b[0;36m<module>\u001b[1;34m\u001b[0m\n\u001b[0;32m      7\u001b[0m \u001b[1;33m\u001b[0m\u001b[0m\n\u001b[0;32m      8\u001b[0m \u001b[0mt\u001b[0m \u001b[1;33m=\u001b[0m \u001b[0mtime\u001b[0m\u001b[1;33m(\u001b[0m\u001b[1;33m)\u001b[0m\u001b[1;33m\u001b[0m\u001b[1;33m\u001b[0m\u001b[0m\n\u001b[1;32m----> 9\u001b[1;33m \u001b[0msubmission2\u001b[0m \u001b[1;33m=\u001b[0m \u001b[0mgr\u001b[0m\u001b[1;33m.\u001b[0m\u001b[0mpredict\u001b[0m\u001b[1;33m(\u001b[0m\u001b[0mtest\u001b[0m\u001b[1;33m,\u001b[0m \u001b[0mfpath\u001b[0m\u001b[1;33m=\u001b[0m\u001b[0mfpath\u001b[0m\u001b[1;33m,\u001b[0m \u001b[0mtocsv\u001b[0m\u001b[1;33m=\u001b[0m\u001b[1;34m'submissions/slim_item.csv'\u001b[0m\u001b[1;33m,\u001b[0m \u001b[0mtop_k\u001b[0m\u001b[1;33m=\u001b[0m\u001b[1;36m100\u001b[0m\u001b[1;33m,\u001b[0m \u001b[0msubtract_mean\u001b[0m\u001b[1;33m=\u001b[0m\u001b[1;32mTrue\u001b[0m\u001b[1;33m)\u001b[0m\u001b[1;33m\u001b[0m\u001b[1;33m\u001b[0m\u001b[0m\n\u001b[0m\u001b[0;32m     10\u001b[0m \u001b[0mprint\u001b[0m\u001b[1;33m(\u001b[0m\u001b[1;34m'Prediction time:'\u001b[0m\u001b[1;33m.\u001b[0m\u001b[0mformat\u001b[0m\u001b[1;33m(\u001b[0m\u001b[0mtime\u001b[0m\u001b[1;33m(\u001b[0m\u001b[1;33m)\u001b[0m\u001b[1;33m-\u001b[0m\u001b[0mt\u001b[0m\u001b[1;33m)\u001b[0m\u001b[1;33m)\u001b[0m\u001b[1;33m\u001b[0m\u001b[1;33m\u001b[0m\u001b[0m\n",
      "\u001b[1;32m<ipython-input-6-052c4c16b6b2>\u001b[0m in \u001b[0;36mpredict\u001b[1;34m(self, df2, fpath, tocsv, top_k, subtract_mean)\u001b[0m\n\u001b[0;32m    142\u001b[0m             \u001b[0mdf_red\u001b[0m \u001b[1;33m=\u001b[0m \u001b[0mdf2\u001b[0m\u001b[1;33m[\u001b[0m\u001b[0mdf2\u001b[0m\u001b[1;33m[\u001b[0m\u001b[0mself\u001b[0m\u001b[1;33m.\u001b[0m\u001b[0mel1_id\u001b[0m\u001b[1;33m]\u001b[0m\u001b[1;33m==\u001b[0m\u001b[0mid1\u001b[0m\u001b[1;33m]\u001b[0m\u001b[1;33m\u001b[0m\u001b[1;33m\u001b[0m\u001b[0m\n\u001b[0;32m    143\u001b[0m             \u001b[1;32mif\u001b[0m \u001b[0msubtract_mean\u001b[0m\u001b[1;33m:\u001b[0m\u001b[1;33m\u001b[0m\u001b[1;33m\u001b[0m\u001b[0m\n\u001b[1;32m--> 144\u001b[1;33m                 \u001b[0mratings\u001b[0m\u001b[1;33m[\u001b[0m\u001b[0mdf_red\u001b[0m\u001b[1;33m.\u001b[0m\u001b[0mid\u001b[0m\u001b[1;33m]\u001b[0m \u001b[1;33m=\u001b[0m \u001b[0mdf_red\u001b[0m\u001b[1;33m[\u001b[0m\u001b[0mself\u001b[0m\u001b[1;33m.\u001b[0m\u001b[0mel2_id\u001b[0m\u001b[1;33m]\u001b[0m\u001b[1;33m.\u001b[0m\u001b[0mapply\u001b[0m\u001b[1;33m(\u001b[0m\u001b[1;32mlambda\u001b[0m \u001b[0mx\u001b[0m\u001b[1;33m:\u001b[0m \u001b[0mself\u001b[0m\u001b[1;33m.\u001b[0m\u001b[0mel1_mean\u001b[0m\u001b[1;33m[\u001b[0m\u001b[0mid1\u001b[0m\u001b[1;33m]\u001b[0m \u001b[1;33m+\u001b[0m \u001b[0mself\u001b[0m\u001b[1;33m.\u001b[0m\u001b[0mel2_ratings\u001b[0m\u001b[1;33m[\u001b[0m\u001b[1;34m'relative'\u001b[0m\u001b[1;33m]\u001b[0m\u001b[1;33m[\u001b[0m\u001b[0mx\u001b[0m\u001b[1;33m]\u001b[0m\u001b[1;33m*\u001b[0m\u001b[0mvec\u001b[0m\u001b[1;33m)\u001b[0m\u001b[1;33m\u001b[0m\u001b[1;33m\u001b[0m\u001b[0m\n\u001b[0m\u001b[0;32m    145\u001b[0m             \u001b[1;32melse\u001b[0m\u001b[1;33m:\u001b[0m\u001b[1;33m\u001b[0m\u001b[1;33m\u001b[0m\u001b[0m\n\u001b[0;32m    146\u001b[0m                 \u001b[0mratings\u001b[0m\u001b[1;33m[\u001b[0m\u001b[0mdf_red\u001b[0m\u001b[1;33m.\u001b[0m\u001b[0mid\u001b[0m\u001b[1;33m]\u001b[0m \u001b[1;33m=\u001b[0m \u001b[0mdf_red\u001b[0m\u001b[1;33m[\u001b[0m\u001b[0mself\u001b[0m\u001b[1;33m.\u001b[0m\u001b[0mel2_id\u001b[0m\u001b[1;33m]\u001b[0m\u001b[1;33m.\u001b[0m\u001b[0mapply\u001b[0m\u001b[1;33m(\u001b[0m\u001b[1;32mlambda\u001b[0m \u001b[0mx\u001b[0m\u001b[1;33m:\u001b[0m \u001b[0mself\u001b[0m\u001b[1;33m.\u001b[0m\u001b[0mel2_ratings\u001b[0m\u001b[1;33m[\u001b[0m\u001b[1;34m'normal'\u001b[0m\u001b[1;33m]\u001b[0m\u001b[1;33m[\u001b[0m\u001b[0mx\u001b[0m\u001b[1;33m]\u001b[0m\u001b[1;33m*\u001b[0m\u001b[0mvec\u001b[0m\u001b[1;33m)\u001b[0m\u001b[1;33m\u001b[0m\u001b[1;33m\u001b[0m\u001b[0m\n",
      "\u001b[1;32m~\\anaconda3\\lib\\site-packages\\pandas\\core\\series.py\u001b[0m in \u001b[0;36mapply\u001b[1;34m(self, func, convert_dtype, args, **kwds)\u001b[0m\n\u001b[0;32m   3846\u001b[0m             \u001b[1;32melse\u001b[0m\u001b[1;33m:\u001b[0m\u001b[1;33m\u001b[0m\u001b[1;33m\u001b[0m\u001b[0m\n\u001b[0;32m   3847\u001b[0m                 \u001b[0mvalues\u001b[0m \u001b[1;33m=\u001b[0m \u001b[0mself\u001b[0m\u001b[1;33m.\u001b[0m\u001b[0mastype\u001b[0m\u001b[1;33m(\u001b[0m\u001b[0mobject\u001b[0m\u001b[1;33m)\u001b[0m\u001b[1;33m.\u001b[0m\u001b[0mvalues\u001b[0m\u001b[1;33m\u001b[0m\u001b[1;33m\u001b[0m\u001b[0m\n\u001b[1;32m-> 3848\u001b[1;33m                 \u001b[0mmapped\u001b[0m \u001b[1;33m=\u001b[0m \u001b[0mlib\u001b[0m\u001b[1;33m.\u001b[0m\u001b[0mmap_infer\u001b[0m\u001b[1;33m(\u001b[0m\u001b[0mvalues\u001b[0m\u001b[1;33m,\u001b[0m \u001b[0mf\u001b[0m\u001b[1;33m,\u001b[0m \u001b[0mconvert\u001b[0m\u001b[1;33m=\u001b[0m\u001b[0mconvert_dtype\u001b[0m\u001b[1;33m)\u001b[0m\u001b[1;33m\u001b[0m\u001b[1;33m\u001b[0m\u001b[0m\n\u001b[0m\u001b[0;32m   3849\u001b[0m \u001b[1;33m\u001b[0m\u001b[0m\n\u001b[0;32m   3850\u001b[0m         \u001b[1;32mif\u001b[0m \u001b[0mlen\u001b[0m\u001b[1;33m(\u001b[0m\u001b[0mmapped\u001b[0m\u001b[1;33m)\u001b[0m \u001b[1;32mand\u001b[0m \u001b[0misinstance\u001b[0m\u001b[1;33m(\u001b[0m\u001b[0mmapped\u001b[0m\u001b[1;33m[\u001b[0m\u001b[1;36m0\u001b[0m\u001b[1;33m]\u001b[0m\u001b[1;33m,\u001b[0m \u001b[0mSeries\u001b[0m\u001b[1;33m)\u001b[0m\u001b[1;33m:\u001b[0m\u001b[1;33m\u001b[0m\u001b[1;33m\u001b[0m\u001b[0m\n",
      "\u001b[1;32mpandas\\_libs\\lib.pyx\u001b[0m in \u001b[0;36mpandas._libs.lib.map_infer\u001b[1;34m()\u001b[0m\n",
      "\u001b[1;32m<ipython-input-6-052c4c16b6b2>\u001b[0m in \u001b[0;36m<lambda>\u001b[1;34m(x)\u001b[0m\n\u001b[0;32m    142\u001b[0m             \u001b[0mdf_red\u001b[0m \u001b[1;33m=\u001b[0m \u001b[0mdf2\u001b[0m\u001b[1;33m[\u001b[0m\u001b[0mdf2\u001b[0m\u001b[1;33m[\u001b[0m\u001b[0mself\u001b[0m\u001b[1;33m.\u001b[0m\u001b[0mel1_id\u001b[0m\u001b[1;33m]\u001b[0m\u001b[1;33m==\u001b[0m\u001b[0mid1\u001b[0m\u001b[1;33m]\u001b[0m\u001b[1;33m\u001b[0m\u001b[1;33m\u001b[0m\u001b[0m\n\u001b[0;32m    143\u001b[0m             \u001b[1;32mif\u001b[0m \u001b[0msubtract_mean\u001b[0m\u001b[1;33m:\u001b[0m\u001b[1;33m\u001b[0m\u001b[1;33m\u001b[0m\u001b[0m\n\u001b[1;32m--> 144\u001b[1;33m                 \u001b[0mratings\u001b[0m\u001b[1;33m[\u001b[0m\u001b[0mdf_red\u001b[0m\u001b[1;33m.\u001b[0m\u001b[0mid\u001b[0m\u001b[1;33m]\u001b[0m \u001b[1;33m=\u001b[0m \u001b[0mdf_red\u001b[0m\u001b[1;33m[\u001b[0m\u001b[0mself\u001b[0m\u001b[1;33m.\u001b[0m\u001b[0mel2_id\u001b[0m\u001b[1;33m]\u001b[0m\u001b[1;33m.\u001b[0m\u001b[0mapply\u001b[0m\u001b[1;33m(\u001b[0m\u001b[1;32mlambda\u001b[0m \u001b[0mx\u001b[0m\u001b[1;33m:\u001b[0m \u001b[0mself\u001b[0m\u001b[1;33m.\u001b[0m\u001b[0mel1_mean\u001b[0m\u001b[1;33m[\u001b[0m\u001b[0mid1\u001b[0m\u001b[1;33m]\u001b[0m \u001b[1;33m+\u001b[0m \u001b[0mself\u001b[0m\u001b[1;33m.\u001b[0m\u001b[0mel2_ratings\u001b[0m\u001b[1;33m[\u001b[0m\u001b[1;34m'relative'\u001b[0m\u001b[1;33m]\u001b[0m\u001b[1;33m[\u001b[0m\u001b[0mx\u001b[0m\u001b[1;33m]\u001b[0m\u001b[1;33m*\u001b[0m\u001b[0mvec\u001b[0m\u001b[1;33m)\u001b[0m\u001b[1;33m\u001b[0m\u001b[1;33m\u001b[0m\u001b[0m\n\u001b[0m\u001b[0;32m    145\u001b[0m             \u001b[1;32melse\u001b[0m\u001b[1;33m:\u001b[0m\u001b[1;33m\u001b[0m\u001b[1;33m\u001b[0m\u001b[0m\n\u001b[0;32m    146\u001b[0m                 \u001b[0mratings\u001b[0m\u001b[1;33m[\u001b[0m\u001b[0mdf_red\u001b[0m\u001b[1;33m.\u001b[0m\u001b[0mid\u001b[0m\u001b[1;33m]\u001b[0m \u001b[1;33m=\u001b[0m \u001b[0mdf_red\u001b[0m\u001b[1;33m[\u001b[0m\u001b[0mself\u001b[0m\u001b[1;33m.\u001b[0m\u001b[0mel2_id\u001b[0m\u001b[1;33m]\u001b[0m\u001b[1;33m.\u001b[0m\u001b[0mapply\u001b[0m\u001b[1;33m(\u001b[0m\u001b[1;32mlambda\u001b[0m \u001b[0mx\u001b[0m\u001b[1;33m:\u001b[0m \u001b[0mself\u001b[0m\u001b[1;33m.\u001b[0m\u001b[0mel2_ratings\u001b[0m\u001b[1;33m[\u001b[0m\u001b[1;34m'normal'\u001b[0m\u001b[1;33m]\u001b[0m\u001b[1;33m[\u001b[0m\u001b[0mx\u001b[0m\u001b[1;33m]\u001b[0m\u001b[1;33m*\u001b[0m\u001b[0mvec\u001b[0m\u001b[1;33m)\u001b[0m\u001b[1;33m\u001b[0m\u001b[1;33m\u001b[0m\u001b[0m\n",
      "\u001b[1;31mKeyError\u001b[0m: 63480"
     ]
    }
   ],
   "source": [
    "fpath = 'slim_item.h5'\n",
    "mode = 'item'\n",
    "gr =slimRecommender()\n",
    "t = time()\n",
    "gr.fit(train, fpath=fpath, mode= mode, bias=0, subtract_mean=True)\n",
    "print('Training time:'.format(time()-t))\n",
    "\n",
    "t = time()\n",
    "submission2 = gr.predict(test, fpath=fpath, tocsv='submissions/slim_item.csv', top_k=100, subtract_mean=True)\n",
    "print('Prediction time:'.format(time()-t))"
   ]
  },
  {
   "cell_type": "code",
   "execution_count": 5,
   "metadata": {},
   "outputs": [
    {
     "data": {
      "text/plain": [
       "(array([   77.,   505.,  1703.,  4724., 11142., 15388., 11026.,  4414.,\n",
       "          951.,    70.]),\n",
       " array([-11.51393307,  -9.23847874,  -6.9630244 ,  -4.68757007,\n",
       "         -2.41211574,  -0.13666141,   2.13879292,   4.41424725,\n",
       "          6.68970159,   8.96515592,  11.24061025]),\n",
       " <a list of 10 Patch objects>)"
      ]
     },
     "execution_count": 5,
     "metadata": {},
     "output_type": "execute_result"
    },
    {
     "data": {
      "image/png": "[encoded data removed]",
      "text/plain": [
       "<Figure size 432x288 with 1 Axes>"
      ]
     },
     "metadata": {
      "needs_background": "light"
     },
     "output_type": "display_data"
    }
   ],
   "source": [
    "import matplotlib.pyplot as plt\n",
    "\n",
    "plt.hist(submission1.rating)"
   ]
  },
  {
   "cell_type": "code",
   "execution_count": null,
   "metadata": {},
   "outputs": [],
   "source": []
  }
 ],
 "metadata": {
  "kernelspec": {
   "display_name": "Python 3",
   "language": "python",
   "name": "python3"
  },
  "language_info": {
   "codemirror_mode": {
    "name": "ipython",
    "version": 3
   },
   "file_extension": ".py",
   "mimetype": "text/x-python",
   "name": "python",
   "nbconvert_exporter": "python",
   "pygments_lexer": "ipython3",
   "version": "3.7.6"
  }
 },
 "nbformat": 4,
 "nbformat_minor": 4
}
